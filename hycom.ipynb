{
 "cells": [
  {
   "cell_type": "code",
   "execution_count": 2,
   "id": "9d04d60a",
   "metadata": {},
   "outputs": [],
   "source": [
    "# Import modules\n",
    "\n",
    "# Sci computing\n",
    "import numpy as np\n",
    "import scipy as sp\n",
    "import seawater as sw\n",
    "import scipy.sparse.linalg as sla\n",
    "\n",
    "# Parallel comupting\n",
    "from dask.distributed import Client, LocalCluster\n",
    "from dask.diagnostics import ProgressBar\n",
    "\n",
    "# For Data\n",
    "import netCDF4 as nc\n",
    "import xarray as xr\n",
    "\n",
    "# Plotting stuff\n",
    "import matplotlib as mpl\n",
    "import matplotlib.pyplot as plt\n",
    "import matplotlib.gridspec as grdspc\n",
    "import cmocean as cm\n",
    "\n",
    "# Gen stuff\n",
    "from datetime import date\n",
    "today = date.today()"
   ]
  },
  {
   "cell_type": "code",
   "execution_count": null,
   "id": "65ff7734",
   "metadata": {},
   "outputs": [],
   "source": [
    "# Load data from HYCOM\n",
    "\n",
    "# Get lat lon\n",
    "url_latlon = 'https://tds.hycom.org/thredds/dodsC/GOMl0.04/expt_02.2/mlayer/1/ssh?Latitude[0:1:384],Longitude[0:1:540]'\n",
    "ds_latlon = xr.open_dataset(url_latlon)\n",
    "#ds_latlon.to_netcdf(\"hycom_latlon.nc\") \n",
    "\n",
    "# Get depth\n",
    "url_depth = 'https://tds.hycom.org/thredds/dodsC/GOMl0.04/expt_02.2/z3d/1/t?Depth[0:1:32]'\n",
    "ds_depth = xr.open_dataset(url_depth)\n",
    "#ds_depth.to_netcdf(\"hycom_depth.nc\")"
   ]
  },
  {
   "cell_type": "code",
   "execution_count": 4,
   "id": "71ab1371",
   "metadata": {},
   "outputs": [],
   "source": [
    "ds_lon = ds_latlon['Longitude'][:]\n",
    "ds_lat = ds_latlon['Latitude'][:]\n",
    "ds_z = ds_depth['Depth'][:] \n",
    "\n",
    "# finding the index in lon array that corresponds to 90W\n",
    "ind90 = list(np.where(ds_lon >= -90)) \n",
    "ind83 = list(np.where(ds_lon >= -83))\n",
    "nlon90 = ind90[0][0]\n",
    "nlon83 = ind83[0][0] + 1\n",
    "lon = ds_lon[nlon90:nlon83]\n",
    "\n",
    "# finding the indices in lat array that correspond to 22W and 28W to only grab data from this region\n",
    "ind22 = list(np.where(ds_lat >= 22))\n",
    "nlat22 = ind22[0][0] \n",
    "ind28 = list(np.where(ds_lat >= 28))\n",
    "nlat28 = ind28[0][0] + 1\n",
    "lat = ds_lat[nlat22:nlat28]\n",
    "\n",
    "ind2k = list(np.where(ds_z >= 2000))\n",
    "n2k = ind2k[0][0] + 1\n",
    "depth = ds_z[:n2k]"
   ]
  },
  {
   "cell_type": "code",
   "execution_count": null,
   "id": "fd84a63c",
   "metadata": {},
   "outputs": [],
   "source": [
    "# Get SSH data for full 18 year cycle (first cycle)\n",
    "\n",
    "url_ssh = f'https://tds.hycom.org/thredds/dodsC/GOMl0.04/expt_02.2/mlayer/1?ssh[0:1:6573][{nlat22}:1:{nlat28-1}][{nlon90}:1:{nlon83-1}]'\n",
    "ds_ssh  = xr.open_dataset(url_ssh, chunks={'MT': 30})\n",
    "#ds_ssh.to_netcdf(\"./hycom_data/hycom_ssh.nc\")"
   ]
  },
  {
   "cell_type": "code",
   "execution_count": null,
   "id": "d618585a",
   "metadata": {},
   "outputs": [],
   "source": [
    "\n",
    "url_temp = f'https://tds.hycom.org/thredds/dodsC/GOMl0.04/expt_02.2/z3d/1/t?temperature[0:1:6573][0:1:{n2k-1}][{nlat22}:1:{nlat28-1}][{nlon90}:1:{nlon83-1}]'\n",
    "ds_temp = xr.open_dataset(url_temp, chunks={'MT': 30})\n",
    "#ds_temp.to_netcdf(\"./hycom_data/hycom_temp.nc\")"
   ]
  },
  {
   "cell_type": "code",
   "execution_count": null,
   "id": "6d439926",
   "metadata": {},
   "outputs": [],
   "source": [
    "url_sal = f'https://tds.hycom.org/thredds/dodsC/GOMl0.04/expt_02.2/z3d/1/s?salinity[0:1:6573][0:1:{n2k-1}][{nlat22}:1:{nlat28-1}][{nlon90}:1:{nlon83-1}]'\n",
    "ds_sal = xr.open_dataset(url_sal, chunks={'MT': 30})\n",
    "#ds_sal.to_netcdf(\"./hycom_data/hycom_sal.nc\")"
   ]
  },
  {
   "cell_type": "code",
   "execution_count": null,
   "id": "cfb4eea7",
   "metadata": {},
   "outputs": [],
   "source": []
  }
 ],
 "metadata": {
  "kernelspec": {
   "display_name": ".ceofs",
   "language": "python",
   "name": ".ceofs"
  }
 },
 "nbformat": 4,
 "nbformat_minor": 5
}
