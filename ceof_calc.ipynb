{
 "cells": [
  {
   "cell_type": "code",
   "execution_count": null,
   "id": "f38adc52",
   "metadata": {},
   "outputs": [],
   "source": [
    "# Import modules\n",
    "\n",
    "# Sci computing\n",
    "import numpy as np\n",
    "import scipy as sp\n",
    "import seawater as sw\n",
    "import scipy.sparse.linalg as sla\n",
    "\n",
    "# Parallel comupting\n",
    "from dask.distributed import Client, LocalCluster\n",
    "from dask.diagnostics import ProgressBar\n",
    "\n",
    "# For Data\n",
    "import netCDF4 as nc\n",
    "import xarray as xr\n",
    "\n",
    "# Plotting stuff\n",
    "import matplotlib as mpl\n",
    "import matplotlib.pyplot as plt\n",
    "import matplotlib.gridspec as grdspc\n",
    "import cmocean as cm\n",
    "\n",
    "# Gen stuff\n",
    "from datetime import date\n",
    "today = date.today()"
   ]
  },
  {
   "cell_type": "code",
   "execution_count": null,
   "id": "1238ad13",
   "metadata": {},
   "outputs": [],
   "source": [
    "ds = xr.open_mfdataset('./hycom_data/hycom_etaref_*.nc',combine='nested',concat_dim='MT')\n",
    "dsSSH = xr.load_dataset('./hycom_data/hycom_ssh.nc')"
   ]
  },
  {
   "cell_type": "code",
   "execution_count": null,
   "id": "d2561f90",
   "metadata": {},
   "outputs": [],
   "source": [
    "eref = ds['eta_ref']\n",
    "eref.shape\n",
    "ssh = dsSSH['ssh']\n",
    "\n",
    "lon = ds['Longitude']\n",
    "lat = ds['Latitude']"
   ]
  },
  {
   "cell_type": "code",
   "execution_count": null,
   "id": "acc5430b",
   "metadata": {},
   "outputs": [],
   "source": [
    "eta_steric = ssh - eref"
   ]
  },
  {
   "cell_type": "code",
   "execution_count": null,
   "id": "d596f341",
   "metadata": {},
   "outputs": [],
   "source": [
    "fig = plt.figure(figsize=(20,4))\n",
    "\n",
    "thisTime = 6110\n",
    "\n",
    "plt.subplot(1,3,1)\n",
    "plt.contourf(lon,lat,ssh[thisTime,:,:])\n",
    "plt.colorbar()\n",
    "\n",
    "plt.subplot(1,3,2)\n",
    "plt.contourf(lon,lat,eta_steric[thisTime,:,:],cmap=cm.cm.ice)\n",
    "plt.colorbar()\n",
    "\n",
    "plt.subplot(1,3,3)\n",
    "plt.contourf(lon,lat,eref[thisTime,:,:],cmap=cm.cm.balance)\n",
    "plt.colorbar()\n"
   ]
  },
  {
   "cell_type": "code",
   "execution_count": null,
   "id": "63a1d6bb",
   "metadata": {},
   "outputs": [],
   "source": [
    "fig,ax = plt.subplots(figsize=(15,5))\n",
    "ax.plot(eref[:,100,100])\n",
    "ax.set_ylabel('$\\eta_{ref}$ [m]')\n",
    "ax.set_xlabel('Time [Days]')\n",
    "this_lat = (lat.values[100].astype('float64'))\n",
    "this_lat = np.round(this_lat,2)\n",
    "this_title = '$\\eta_{ref}$'+f' at lon:{lon.values[100]}W lat:{this_lat}N'\n",
    "ax.set_title(this_title)\n",
    "#ax.set_xlim(5850,6500)\n"
   ]
  },
  {
   "cell_type": "code",
   "execution_count": null,
   "id": "1bc5204e",
   "metadata": {},
   "outputs": [],
   "source": [
    "\n",
    "plt.contourf(lon,lat,eref[6200,:,:],cmap=cm.cm.balance,levels=np.linspace(-0.1,0.1,11),extend='both')\n",
    "plt.colorbar()\n",
    "plt.plot(lon[100],lat[100],marker='*',markersize=10,markeredgecolor='black',markerfacecolor='yellow')\n",
    "plt.xlabel('Longitude [$^\\circ$W]')\n",
    "plt.ylabel('Latitude [$^\\circ$N]')\n",
    "plt.title('Day 6200')\n"
   ]
  },
  {
   "cell_type": "code",
   "execution_count": null,
   "id": "4e0f4646",
   "metadata": {},
   "outputs": [],
   "source": [
    "ds_ssh = xr.load_dataset(\"./hycom_data/hycom_ssh.nc\", chunks={'MT': 540, 'Latitude': 83, 'Longitude': 88})"
   ]
  },
  {
   "cell_type": "code",
   "execution_count": null,
   "id": "dbd61374",
   "metadata": {},
   "outputs": [],
   "source": [
    "plt.contourf(eref[6100,:,:],cmap=cm.cm.balance)\n",
    "plt.colorbar()"
   ]
  }
 ],
 "metadata": {
  "kernelspec": {
   "display_name": ".ceofs",
   "language": "python",
   "name": ".ceofs"
  },
  "language_info": {
   "codemirror_mode": {
    "name": "ipython",
    "version": 3
   },
   "file_extension": ".py",
   "mimetype": "text/x-python",
   "name": "python",
   "nbconvert_exporter": "python",
   "pygments_lexer": "ipython3",
   "version": "3.12.3"
  }
 },
 "nbformat": 4,
 "nbformat_minor": 5
}
